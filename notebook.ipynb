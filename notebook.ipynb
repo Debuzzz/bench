{
 "cells": [
  {
   "cell_type": "code",
   "execution_count": 19,
   "id": "b208c353",
   "metadata": {},
   "outputs": [
    {
     "ename": "ModuleNotFoundError",
     "evalue": "No module named 'mathplotlib'",
     "output_type": "error",
     "traceback": [
      "\u001b[31m---------------------------------------------------------------------------\u001b[39m",
      "\u001b[31mModuleNotFoundError\u001b[39m                       Traceback (most recent call last)",
      "\u001b[36mCell\u001b[39m\u001b[36m \u001b[39m\u001b[32mIn[19]\u001b[39m\u001b[32m, line 4\u001b[39m\n\u001b[32m      2\u001b[39m \u001b[38;5;28;01mimport\u001b[39;00m\u001b[38;5;250m \u001b[39m\u001b[34;01mos\u001b[39;00m\n\u001b[32m      3\u001b[39m \u001b[38;5;28;01mimport\u001b[39;00m\u001b[38;5;250m \u001b[39m\u001b[34;01mtime\u001b[39;00m\n\u001b[32m----> \u001b[39m\u001b[32m4\u001b[39m \u001b[38;5;28;01mimport\u001b[39;00m\u001b[38;5;250m \u001b[39m\u001b[34;01mmathplotlib\u001b[39;00m\u001b[38;5;250m \u001b[39m\u001b[38;5;28;01mas\u001b[39;00m\u001b[38;5;250m \u001b[39m\u001b[34;01mplt\u001b[39;00m\n\u001b[32m      5\u001b[39m \u001b[38;5;28;01mimport\u001b[39;00m\u001b[38;5;250m \u001b[39m\u001b[34;01mnumpy\u001b[39;00m\u001b[38;5;250m \u001b[39m\u001b[38;5;28;01mas\u001b[39;00m\u001b[38;5;250m \u001b[39m\u001b[34;01mnp\u001b[39;00m\n\u001b[32m      7\u001b[39m \u001b[38;5;28;01mif\u001b[39;00m os.name == \u001b[33m'\u001b[39m\u001b[33mnt\u001b[39m\u001b[33m'\u001b[39m:  \u001b[38;5;66;03m# Windows\u001b[39;00m\n",
      "\u001b[31mModuleNotFoundError\u001b[39m: No module named 'mathplotlib'"
     ]
    }
   ],
   "source": [
    "import subprocess\n",
    "import os\n",
    "import time\n",
    "import mathplotlib as plt\n",
    "import numpy as np\n",
    "\n",
    "if os.name == 'nt':  # Windows\n",
    "    execution_file = os.path.join(\"bin\", \"mmul_bench.exe\")\n",
    "else:  # Linux/Mac\n",
    "    execution_file = os.path.join(\".\", \"bin\", \"mmul_bench\")\n",
    "\n",
    "algos = ['ijk', 'jik', 'kij', 'ikj', 'jki', 'kji']\n",
    "\n",
    "def run_alg(N, alg):\n",
    "    cmd = [execution_file, str(N), alg]\n",
    "    result = subprocess.run(cmd, capture_output=True, text=True)\n",
    "    return result.stdout, result.stderr\n",
    "\n",
    "def format_output(result):\n",
    "    # Séparation des résultats\n",
    "    stdout_lines = result[0].strip().split('\\n')\n",
    "    stderr_lines = result[1].strip().split('\\n')\n",
    "\n",
    "    print(\"Résultats stdout :\")\n",
    "    for line in stdout_lines:\n",
    "        print(line)\n",
    "\n",
    "    print(\"\\nRésultats stderr :\")\n",
    "    for line in stderr_lines:\n",
    "        print(line)\n",
    "\n",
    "def main():\n",
    "    print(\"Exécution du programme de benchmark pour la multiplication de matrices...\\n\")\n",
    "    print(f\"Fichier d'exécution : {execution_file}\\n\")\n",
    "    print(\"Algorithmes disponibles :\", \", \".join(algos))\n",
    "    print(\"\\n\" + \"=\" * 40)  # Séparateur pour la lisibilité\n",
    "\n",
    "    range_N = []\n",
    "    n = 16\n",
    "    while n <= 1024:\n",
    "        range_N.append(n)\n",
    "        n *= 2\n",
    "\n",
    "    start = time.time()\n",
    "\n",
    "    for alg in algos:\n",
    "        print(f\"\\nAlgorithme : {alg}\")\n",
    "        for N in range_N:\n",
    "            print(f\"\\nExécution pour N = {N} :\")\n",
    "            result = run_alg(N, alg)\n",
    "            format_output(result)  # Affichage des résultats\n",
    "            print(\"-\" * 40)  # Séparateur pour la lisibilité\n",
    "        print(\"\\n\" + \"=\" * 40)  # Séparateur pour la fin\n",
    "        print(\"\\n\")  # Ligne vide pour la lisibilité entre les valeurs de N\n",
    "\n",
    "    end = time.time()\n",
    "    print(f\"Temps total d'exécution : {end - start:.2f} secondes\") \n",
    "\n",
    "main()\n"
   ]
  }
 ],
 "metadata": {
  "kernelspec": {
   "display_name": ".venv",
   "language": "python",
   "name": "python3"
  },
  "language_info": {
   "codemirror_mode": {
    "name": "ipython",
    "version": 3
   },
   "file_extension": ".py",
   "mimetype": "text/x-python",
   "name": "python",
   "nbconvert_exporter": "python",
   "pygments_lexer": "ipython3",
   "version": "3.13.0"
  }
 },
 "nbformat": 4,
 "nbformat_minor": 5
}
