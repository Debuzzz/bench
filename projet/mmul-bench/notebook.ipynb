{
 "cells": [
  {
   "cell_type": "code",
   "execution_count": 6,
   "id": "b208c353",
   "metadata": {},
   "outputs": [
    {
     "data": {
      "text/plain": [
       "('ijk:750209.750000μs:77673\\nkji:777500.250000μs:77673\\n',\n",
       " \"enabling: 'ijk'\\nenabling: 'kji'\\n412426.793323\\n412426.793323\\n\")"
      ]
     },
     "execution_count": 6,
     "metadata": {},
     "output_type": "execute_result"
    }
   ],
   "source": [
    "import subprocess\n",
    "import os\n",
    "\n",
    "if os.name == 'nt':  # Windows\n",
    "    execution_file = os.path.join(\"bin\", \"mmul_bench.exe\")\n",
    "else:  # Linux/Mac\n",
    "    execution_file = os.path.join(\".\", \"bin\", \"mmul_bench\")\n",
    "\n",
    "def run_alg(N, alg):\n",
    "    cmd = [execution_file, str(N), alg]\n",
    "    result = subprocess.run(cmd, capture_output=True, text=True)\n",
    "    return result.stdout, result.stderr\n",
    "\n",
    "run_alg(24, \"ijk,kji\")"
   ]
  }
 ],
 "metadata": {
  "kernelspec": {
   "display_name": ".venv",
   "language": "python",
   "name": "python3"
  },
  "language_info": {
   "codemirror_mode": {
    "name": "ipython",
    "version": 3
   },
   "file_extension": ".py",
   "mimetype": "text/x-python",
   "name": "python",
   "nbconvert_exporter": "python",
   "pygments_lexer": "ipython3",
   "version": "3.13.0"
  }
 },
 "nbformat": 4,
 "nbformat_minor": 5
}
