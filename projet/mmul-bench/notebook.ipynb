{
 "cells": [
  {
   "cell_type": "code",
   "execution_count": 4,
   "id": "b208c353",
   "metadata": {},
   "outputs": [
    {
     "data": {
      "text/plain": [
       "('ijk:701433.250000μs:77673\\nkji:799766.750000μs:77673\\n',\n",
       " \"enabling: 'ijk'\\nenabling: 'kji'\\n487553.137422\\n487553.137422\\n\")"
      ]
     },
     "execution_count": 4,
     "metadata": {},
     "output_type": "execute_result"
    }
   ],
   "source": [
    "import subprocess\n",
    "\n",
    "def run_alg(N, alg):\n",
    "    cmd = [\"./bin/mmul_bench\", str(N), alg]\n",
    "    result = subprocess.run(cmd, capture_output=True, text=True)\n",
    "    return result.stdout, result.stderr\n",
    "\n",
    "run_alg(24, \"ijk,kji\")"
   ]
  }
 ],
 "metadata": {
  "kernelspec": {
   "display_name": ".venv",
   "language": "python",
   "name": "python3"
  },
  "language_info": {
   "codemirror_mode": {
    "name": "ipython",
    "version": 3
   },
   "file_extension": ".py",
   "mimetype": "text/x-python",
   "name": "python",
   "nbconvert_exporter": "python",
   "pygments_lexer": "ipython3",
   "version": "3.13.0"
  }
 },
 "nbformat": 4,
 "nbformat_minor": 5
}
